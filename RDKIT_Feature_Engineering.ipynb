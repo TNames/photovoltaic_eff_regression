{
 "cells": [
  {
   "cell_type": "markdown",
   "metadata": {},
   "source": [
    "# RDKit Feature Engineering"
   ]
  },
  {
   "cell_type": "code",
   "execution_count": 1,
   "metadata": {
    "collapsed": true
   },
   "outputs": [],
   "source": [
    "# IN TERMINAL:\n",
    "# $source activate my-rdkit-env\n",
    "# $pip install jupyter\n",
    "# $pip install pandas\n",
    "\n",
    "#Import packages\n",
    "import pandas as pd\n",
    "from rdkit.Chem import rdMolDescriptors"
   ]
  },
  {
   "cell_type": "markdown",
   "metadata": {},
   "source": [
    "## FEATURE ENGINEERING - PART 1"
   ]
  },
  {
   "cell_type": "code",
   "execution_count": 20,
   "metadata": {
    "collapsed": false
   },
   "outputs": [],
   "source": [
    "'''\n",
    "INPUTS:\n",
    "inscv : string name for input csv file\n",
    "outscv: string name for output csv file with new features\n",
    "'''\n",
    "def make_features(incsv, outcsv):\n",
    "    df_read=pd.read_csv(incsv, index_col=0)\n",
    "    keys=['f'+str(i) for i in range(14,40)]\n",
    "    vals=[[] for i in range(14,40)]\n",
    "    features=dict(zip(keys, vals))\n",
    "\n",
    "    for i in df_read.smiles:\n",
    "        m = Chem.MolFromSmiles(i)\n",
    "        features['f01'].append(rdMolDescriptors.CalcExactMolWt(m))\n",
    "        features['f02'].append(rdMolDescriptors.CalcFractionCSP3(m))\n",
    "        features['f03'].append(rdMolDescriptors.CalcHallKierAlpha(m))\n",
    "        features['f04'].append(rdMolDescriptors.CalcKappa1(m))\n",
    "        features['f05'].append(rdMolDescriptors.CalcKappa2(m))\n",
    "        features['f06'].append(rdMolDescriptors.CalcKappa3(m))\n",
    "        features['f07'].append(rdMolDescriptors.CalcLabuteASA(m))\n",
    "        features['f08'].append(rdMolDescriptors.CalcNumAliphaticCarbocycles(m))\n",
    "        features['f09'].append(rdMolDescriptors.CalcNumAliphaticHeterocycles(m))\n",
    "        features['f10'].append(rdMolDescriptors.CalcNumAliphaticRings(m))\n",
    "        features['f11'].append(rdMolDescriptors.CalcNumAmideBonds(m))\n",
    "        features['f12'].append(rdMolDescriptors.CalcNumAromaticCarbocycles(m))\n",
    "        features['f13'].append(rdMolDescriptors.CalcNumRings(m))\n",
    "\n",
    "    #Add new columns to dataframe\n",
    "    for i in keys:\n",
    "        df_read[i]=features[i]\n",
    "\n",
    "    df_read.to_csv(outcsv)\n",
    "    return 'Finished'"
   ]
  },
  {
   "cell_type": "markdown",
   "metadata": {},
   "source": [
    "## FEATURE ENGINEERING - PART 2"
   ]
  },
  {
   "cell_type": "code",
   "execution_count": 20,
   "metadata": {
    "collapsed": true
   },
   "outputs": [],
   "source": [
    "'''\n",
    "INPUTS:\n",
    "inscv : string name for input csv file\n",
    "outscv: string name for output csv file with new features\n",
    "'''\n",
    "def make_features2(incsv, outcsv):\n",
    "    df_read=pd.read_csv(incsv, index_col=0)\n",
    "    keys=['f'+str(i) for i in range(14,40)]\n",
    "    vals=[[] for i in range(14,40)]\n",
    "    features=dict(zip(keys, vals))\n",
    "\n",
    "    for i in df_read.smiles:\n",
    "        m = Chem.MolFromSmiles(i)\n",
    "        features['f14'].append(rdMolDescriptors.CalcChi0n(m))\n",
    "        features['f15'].append(rdMolDescriptors.CalcChi0v(m))\n",
    "        features['f16'].append(rdMolDescriptors.CalcChi1n(m))\n",
    "        features['f17'].append(rdMolDescriptors.CalcChi1v(m))\n",
    "        features['f18'].append(rdMolDescriptors.CalcChi2n(m))\n",
    "        features['f19'].append(rdMolDescriptors.CalcChi2v(m))\n",
    "        features['f20'].append(rdMolDescriptors.CalcChi3n(m))\n",
    "        features['f21'].append(rdMolDescriptors.CalcChi3v(m))\n",
    "        features['f22'].append(rdMolDescriptors.CalcChi4n(m))\n",
    "        features['f23'].append(rdMolDescriptors.CalcChi4v(m))\n",
    "        features['f24'].append(rdMolDescriptors.CalcCrippenDescriptors(m)[0])\n",
    "        features['f25'].append(rdMolDescriptors.CalcCrippenDescriptors(m)[1])\n",
    "        features['f26'].append(rdMolDescriptors.CalcNumAromaticHeterocycles(m))\n",
    "        features['f27'].append(rdMolDescriptors.CalcNumBridgeheadAtoms(m))\n",
    "        features['f28'].append(rdMolDescriptors.CalcNumHBA(m))\n",
    "        features['f29'].append(rdMolDescriptors.CalcNumHBD(m))\n",
    "        features['f30'].append(rdMolDescriptors.CalcNumHeteroatoms(m))\n",
    "        features['f31'].append(rdMolDescriptors.CalcNumHeterocycles(m))\n",
    "        features['f32'].append(rdMolDescriptors.CalcNumLipinskiHBA(m))\n",
    "        features['f33'].append(rdMolDescriptors.CalcNumLipinskiHBD(m))\n",
    "        features['f34'].append(rdMolDescriptors.CalcNumRotatableBonds(m))\n",
    "        features['f35'].append(rdMolDescriptors.CalcNumSaturatedCarbocycles(m))\n",
    "        features['f36'].append(rdMolDescriptors.CalcNumSaturatedHeterocycles(m))\n",
    "        features['f37'].append(rdMolDescriptors.CalcNumSaturatedRings(m))\n",
    "        features['f38'].append(rdMolDescriptors.CalcNumSpiroAtoms(m))\n",
    "        features['f39'].append(rdMolDescriptors.CalcTPSA(m))\n",
    "    \n",
    "    #Add new columns to dataframe\n",
    "    for i in keys:\n",
    "        df_read[i]=features[i]\n",
    "\n",
    "    df_read.to_csv(outcsv)\n",
    "    return 'Finished'"
   ]
  },
  {
   "cell_type": "code",
   "execution_count": 17,
   "metadata": {
    "collapsed": false
   },
   "outputs": [],
   "source": [
    "make_features('new_train.csv', 'new_tr_feat.csv')"
   ]
  },
  {
   "cell_type": "code",
   "execution_count": 21,
   "metadata": {
    "collapsed": false
   },
   "outputs": [
    {
     "data": {
      "text/plain": [
       "'Finished'"
      ]
     },
     "execution_count": 21,
     "metadata": {},
     "output_type": "execute_result"
    }
   ],
   "source": [
    "make_features('new_test.csv', 'new_te_feat.csv')"
   ]
  },
  {
   "cell_type": "code",
   "execution_count": 22,
   "metadata": {
    "collapsed": false
   },
   "outputs": [
    {
     "data": {
      "text/plain": [
       "'Finished'"
      ]
     },
     "execution_count": 22,
     "metadata": {},
     "output_type": "execute_result"
    }
   ],
   "source": [
    "make_features('new_val.csv', 'new_val_feat.csv')"
   ]
  },
  {
   "cell_type": "code",
   "execution_count": 21,
   "metadata": {
    "collapsed": false
   },
   "outputs": [
    {
     "data": {
      "text/plain": [
       "'Finished'"
      ]
     },
     "execution_count": 21,
     "metadata": {},
     "output_type": "execute_result"
    }
   ],
   "source": [
    "make_features2('new_tr_feat.csv', 'new_xtr_feat.csv')"
   ]
  },
  {
   "cell_type": "code",
   "execution_count": 22,
   "metadata": {
    "collapsed": false
   },
   "outputs": [
    {
     "data": {
      "text/plain": [
       "'Finished'"
      ]
     },
     "execution_count": 22,
     "metadata": {},
     "output_type": "execute_result"
    }
   ],
   "source": [
    "make_features2('new_te_feat.csv', 'new_xte_feat.csv')"
   ]
  },
  {
   "cell_type": "code",
   "execution_count": 23,
   "metadata": {
    "collapsed": false
   },
   "outputs": [
    {
     "data": {
      "text/plain": [
       "'Finished'"
      ]
     },
     "execution_count": 23,
     "metadata": {},
     "output_type": "execute_result"
    }
   ],
   "source": [
    "make_features2('new_val_feat.csv', 'new_xval_feat.csv')"
   ]
  }
 ],
 "metadata": {
  "kernelspec": {
   "display_name": "Python 2",
   "language": "python",
   "name": "python2"
  },
  "language_info": {
   "codemirror_mode": {
    "name": "ipython",
    "version": 2
   },
   "file_extension": ".py",
   "mimetype": "text/x-python",
   "name": "python",
   "nbconvert_exporter": "python",
   "pygments_lexer": "ipython2",
   "version": "2.7.11"
  }
 },
 "nbformat": 4,
 "nbformat_minor": 0
}
